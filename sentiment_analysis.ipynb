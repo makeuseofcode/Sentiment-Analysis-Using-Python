{
  "nbformat": 4,
  "nbformat_minor": 0,
  "metadata": {
    "colab": {
      "provenance": []
    },
    "kernelspec": {
      "name": "python3",
      "display_name": "Python 3"
    },
    "language_info": {
      "name": "python"
    }
  },
  "cells": [
    {
      "cell_type": "code",
      "execution_count": null,
      "metadata": {
        "id": "ztiYN6SjOvca"
      },
      "outputs": [],
      "source": [
        "! pip install tensorflow scikit-learn pandas numpy pickle5\n",
        "\n",
        "# Import libraries\n",
        "import numpy as np\n",
        "import pandas as pd\n",
        "import tensorflow as tf\n",
        "from sklearn.model_selection import train_test_split\n",
        "from sklearn.metrics import accuracy_score\n",
        "from tensorflow.keras.preprocessing.text import Tokenizer\n",
        "from tensorflow.keras.preprocessing.sequence import pad_sequences\n",
        "from tensorflow.keras.models import Sequential\n",
        "from tensorflow.keras.layers import Embedding, Conv1D, GlobalMaxPooling1D, Dense, Dropout\n",
        "import pickle5 as pickle\n"
      ]
    },
    {
      "cell_type": "code",
      "source": [
        "# Load the dataset\n",
        "df = pd.read_csv('/content/tripadvisor_hotel_reviews.csv')\n",
        "print(df.head())"
      ],
      "metadata": {
        "id": "y-Y2NJSxPz6R"
      },
      "execution_count": null,
      "outputs": []
    },
    {
      "cell_type": "code",
      "source": [
        "# Preprocess the dataset\n",
        "df = df[['Review', 'Rating']]\n",
        "df['sentiment'] = df['Rating'].apply(lambda x: 'positive' if x > 3 else 'negative' if x < 3 else 'neutral')\n",
        "df = df[['Review', 'sentiment']]\n",
        "df = df.sample(frac=1).reset_index(drop=True)"
      ],
      "metadata": {
        "id": "7pbei1QMP03C"
      },
      "execution_count": null,
      "outputs": []
    },
    {
      "cell_type": "code",
      "source": [
        "# Tokenize and pad the review sequences\n",
        "tokenizer = Tokenizer(num_words=5000, oov_token='<OOV>')\n",
        "tokenizer.fit_on_texts(df['Review'])\n",
        "word_index = tokenizer.word_index\n",
        "sequences = tokenizer.texts_to_sequences(df['Review'])\n",
        "padded_sequences = pad_sequences(sequences, maxlen=100, truncating='post')"
      ],
      "metadata": {
        "id": "saUqmTqwP652"
      },
      "execution_count": null,
      "outputs": []
    },
    {
      "cell_type": "code",
      "source": [
        "# Convert the sentiment labels to one-hot encoding\n",
        "sentiment_labels = pd.get_dummies(df['sentiment']).values"
      ],
      "metadata": {
        "id": "fAm4nV0ZQCQw"
      },
      "execution_count": null,
      "outputs": []
    },
    {
      "cell_type": "code",
      "source": [
        "# Split the dataset into training and testing sets\n",
        "x_train, x_test, y_train, y_test = train_test_split(padded_sequences, sentiment_labels, test_size=0.2)"
      ],
      "metadata": {
        "id": "TlT0QwgnQIE6"
      },
      "execution_count": null,
      "outputs": []
    },
    {
      "cell_type": "code",
      "source": [
        "# Build the model\n",
        "model = Sequential()\n",
        "model.add(Embedding(5000, 100, input_length=100))\n",
        "model.add(Conv1D(64, 5, activation='relu'))\n",
        "model.add(GlobalMaxPooling1D())\n",
        "model.add(Dense(32, activation='relu'))\n",
        "model.add(Dropout(0.5))\n",
        "model.add(Dense(3, activation='softmax'))\n",
        "model.compile(optimizer='adam', loss='categorical_crossentropy', metrics=['accuracy'])\n",
        "model.summary()\n",
        "\n",
        "# Train the model\n",
        "model.fit(x_train, y_train, epochs=10, batch_size=32, validation_data=(x_test, y_test))\n",
        "\n",
        "# Evaluate the model\n",
        "y_pred = np.argmax(model.predict(x_test), axis=-1)\n",
        "print(\"Accuracy:\", accuracy_score(np.argmax(y_test, axis=-1), y_pred))\n"
      ],
      "metadata": {
        "id": "q0eY0dapQWnU"
      },
      "execution_count": null,
      "outputs": []
    },
    {
      "cell_type": "code",
      "source": [
        "# Save the trained model\n",
        "model.save('sentiment_analysis_model.h5')\n",
        "with open('tokenizer.pickle', 'wb') as handle:\n",
        "    pickle.dump(tokenizer, handle, protocol=pickle.HIGHEST_PROTOCOL)"
      ],
      "metadata": {
        "id": "bJthNwQGQcCm"
      },
      "execution_count": null,
      "outputs": []
    },
    {
      "cell_type": "code",
      "source": [
        "# Load the saved model and tokenizer\n",
        "import keras\n",
        "\n",
        "model = keras.models.load_model('sentiment_analysis_model.h5')\n",
        "with open('tokenizer.pickle', 'rb') as handle:\n",
        "    tokenizer = pickle.load(handle)"
      ],
      "metadata": {
        "id": "Ysb8RVGNQhcc"
      },
      "execution_count": null,
      "outputs": []
    },
    {
      "cell_type": "code",
      "source": [
        "# Define a function to predict the sentiment of input text\n",
        "def predict_sentiment(text):\n",
        "    # Tokenize and pad the input text\n",
        "    text_sequence = tokenizer.texts_to_sequences([text])\n",
        "    text_sequence = pad_sequences(text_sequence, maxlen=100)\n",
        "\n",
        "    # Make a prediction using the trained model\n",
        "    predicted_rating = model.predict(text_sequence)[0]\n",
        "    if np.argmax(predicted_rating) == 0:\n",
        "        return 'Negative'\n",
        "    elif np.argmax(predicted_rating) == 1:\n",
        "        return 'Neutral'\n",
        "    else:\n",
        "        return 'Positive'\n"
      ],
      "metadata": {
        "id": "ZKDj1TzYQmvq"
      },
      "execution_count": null,
      "outputs": []
    },
    {
      "cell_type": "code",
      "source": [
        "# Example usage\n",
        "text_input = \"I absolutely loved my stay at that hotel. The staff was amazing and the room was fantastic!\"\n",
        "predicted_sentiment = predict_sentiment(text_input)\n",
        "print(predicted_sentiment)"
      ],
      "metadata": {
        "id": "793uCfU1Qn0X"
      },
      "execution_count": null,
      "outputs": []
    },
    {
      "cell_type": "code",
      "source": [
        "# Example usage\n",
        "text_input = \"I hate that product. Will not buy it again\"\n",
        "predicted_sentiment = predict_sentiment(text_input)\n",
        "print(predicted_sentiment)"
      ],
      "metadata": {
        "id": "X3u1tQwcOJM3"
      },
      "execution_count": null,
      "outputs": []
    },
    {
      "cell_type": "code",
      "source": [
        "# Example usage\n",
        "text_input = \"Overall, it was an average experience\"\n",
        "predicted_sentiment = predict_sentiment(text_input)\n",
        "print(predicted_sentiment)"
      ],
      "metadata": {
        "id": "yWwxieSgOlcj"
      },
      "execution_count": null,
      "outputs": []
    }
  ]
}